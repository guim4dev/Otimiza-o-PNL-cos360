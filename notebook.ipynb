{
  "nbformat": 4,
  "nbformat_minor": 0,
  "metadata": {
    "colab": {
      "name": "Otimização.ipynb",
      "provenance": [],
      "toc_visible": true,
      "collapsed_sections": [
        "SD3cf-AQIRSW",
        "CoEuMV8sSXrc",
        "Xc5eQZoXMlCf",
        "lql4GmKgSLHo",
        "AstmNOdnSOBx",
        "kT07x-otSPd0",
        "nmehYI8wTXqo",
        "nSrhCeChmmsp",
        "JmhLyO_mmE_m",
        "gDUAuaJ6lwJi",
        "XmaqnB1crCmo",
        "5hUTwrgA3KZk",
        "iQIxkZq7GT1X",
        "K2WXPUAIz6oR",
        "8V8WYkGlI6zS",
        "dFyAsfi1SRqz",
        "pZs-ftdYfYDL",
        "1NHLY3jcxFHq",
        "KQQg-1t2wqG9",
        "NZa6Pl22wys0",
        "FB34WfJPxDjP",
        "4mQmR-e45kzm",
        "AFglv-hAxMs6",
        "VBAjW8nww5sd",
        "nowCG_s1w7AJ",
        "yHYPT8ddw8fv",
        "qV8tzeDThFKk",
        "e5CQbaurwO0Y",
        "Hm1hseoxhGwV",
        "HrVPnfQ4hIrV",
        "T8F0JIKXhJ8O"
      ]
    },
    "kernelspec": {
      "name": "python3",
      "display_name": "Python 3"
    },
    "language_info": {
      "name": "python"
    }
  },
  "cells": [
    {
      "cell_type": "markdown",
      "source": [
        "# Trabalho Implementação PNL"
      ],
      "metadata": {
        "id": "AWJafU3LyCIw"
      }
    },
    {
      "cell_type": "markdown",
      "source": [
        "\n",
        "`Função :` $f(x_1, x_2) = \\sqrt{-\\log{(x_1(1-x_1)x_2(1-x_2))}}$\n",
        "\n",
        "`Domínio:` ${\\rm I\\!R}^2$"
      ],
      "metadata": {
        "id": "9I7dZDWouwJK"
      }
    },
    {
      "cell_type": "markdown",
      "source": [
        "`Nome: ` Thiago Guimarães Rebello Mendonça de Alcântara\n",
        "\n",
        "`DRE: ` 118053123\n",
        "\n",
        "`Nome: ` Bruno Dantas de Paiva\n",
        "\n",
        "`DRE: ` 118048097"
      ],
      "metadata": {
        "id": "FhGpugGHxTv6"
      }
    },
    {
      "cell_type": "markdown",
      "source": [
        "# Bibliotecas"
      ],
      "metadata": {
        "id": "SD3cf-AQIRSW"
      }
    },
    {
      "cell_type": "code",
      "source": [
        "import sympy as sym\n",
        "import numpy as np\n",
        "import pandas as pd"
      ],
      "metadata": {
        "id": "vJdW5pmuIQyv"
      },
      "execution_count": null,
      "outputs": []
    },
    {
      "cell_type": "markdown",
      "source": [
        "# Função do trabalho"
      ],
      "metadata": {
        "id": "CoEuMV8sSXrc"
      }
    },
    {
      "cell_type": "code",
      "source": [
        "x1, x2 = sym.symbols('x1 x2')\n",
        "vetor = (x1, x2)"
      ],
      "metadata": {
        "id": "PgtJKU46Pp_F"
      },
      "execution_count": null,
      "outputs": []
    },
    {
      "cell_type": "code",
      "source": [
        "funcao = sym.sqrt(-sym.log(x1*(1.0-x1)*x2*(1.0-x2)))"
      ],
      "metadata": {
        "id": "iVXckXLDtlOa"
      },
      "execution_count": null,
      "outputs": []
    },
    {
      "cell_type": "markdown",
      "source": [
        "# Funções Auxiliares"
      ],
      "metadata": {
        "id": "Xc5eQZoXMlCf"
      }
    },
    {
      "cell_type": "markdown",
      "source": [
        "## calcula_gradiente_da_funcao"
      ],
      "metadata": {
        "id": "lql4GmKgSLHo"
      }
    },
    {
      "cell_type": "code",
      "source": [
        "def calcula_gradiente_da_funcao(f):\n",
        "  \"\"\" Gera o gradiente da função f\n",
        "\n",
        "  Args:\n",
        "      f (Callable): Função que será calculado o gradiente.\n",
        "\n",
        "  Returns:\n",
        "      Matrix: Retorna uma matrix 1xN, onde N é o número de variáveis \n",
        "      da função f contendo o gradiente da função.\n",
        "  \"\"\"\n",
        "  \n",
        "  return sym.Matrix([\n",
        "                     [\n",
        "                      sym.sqrt(-sym.log(x1*x2*(1.0 - x1)*(1.0 - x2)))*(-x1*x2*(1.0 - x2) + x2*(1.0 - x1)*(1.0 - x2))/(2*x1*x2*(1.0 - x1)*(1.0 - x2)*sym.log(x1*x2*(1.0 - x1)*(1.0 - x2))),\n",
        "                      sym.sqrt(-sym.log(x1*x2*(1.0 - x1)*(1.0 - x2)))*(-x1*x2*(1.0 - x1) + x1*(1.0 - x1)*(1.0 - x2))/(2*x1*x2*(1.0 - x1)*(1.0 - x2)*sym.log(x1*x2*(1.0 - x1)*(1.0 - x2)))\n",
        "                     ]\n",
        "                    ])"
      ],
      "metadata": {
        "id": "mVLhl5HeMnF6"
      },
      "execution_count": null,
      "outputs": []
    },
    {
      "cell_type": "markdown",
      "source": [
        "## calcula_hessiana_da_funcao"
      ],
      "metadata": {
        "id": "AstmNOdnSOBx"
      }
    },
    {
      "cell_type": "code",
      "source": [
        "def calcula_hessiana_da_funcao(f):\n",
        "  \"\"\" Gera a hessiana da função f\n",
        "\n",
        "  Args:\n",
        "      f (Callable): Função que será calculado o gradiente.\n",
        "\n",
        "  Returns:\n",
        "      Matrix: Retorna a matriz hessiana da função f.\n",
        "  \"\"\"\n",
        "  return sym.Matrix([\n",
        "                     [\n",
        "                      -sym.sqrt(-sym.log(x1*x2*(1.0 - x1)*(1.0 - x2)))/(x1*(1.0 - x1)*sym.log(x1*x2*(1.0 - x1)*(1.0 - x2))) + sym.sqrt(-sym.log(x1*x2*(1.0 - x1)*(1.0 - x2)))*(-x1*x2*(1.0 - x2) + x2*(1.0 - x1)*(1.0 - x2))/(2*x1*x2*(1.0 - x1)**2*(1.0 - x2)*sym.log(x1*x2*(1.0 - x1)*(1.0 - x2))) - sym.sqrt(-sym.log(x1*x2*(1.0 - x1)*(1.0 - x2)))*(-x1*x2*(1.0 - x2) + x2*(1.0 - x1)*(1.0 - x2))/(2*x1**2*x2*(1.0 - x1)*(1.0 - x2)*sym.log(x1*x2*(1.0 - x1)*(1.0 - x2))) - sym.sqrt(-sym.log(x1*x2*(1.0 - x1)*(1.0 - x2)))*(-x1*x2*(1.0 - x2) + x2*(1.0 - x1)*(1.0 - x2))**2/(4*x1**2*x2**2*(1.0 - x1)**2*(1.0 - x2)**2*sym.log(x1*x2*(1.0 - x1)*(1.0 - x2))**2),\n",
        "                      sym.sqrt(-sym.log(x1*x2*(1.0 - x1)*(1.0 - x2)))*(x1*x2 - x1*(1.0 - x2) - x2*(1.0 - x1) + (1.0 - x1)*(1.0 - x2))/(2*x1*x2*(1.0 - x1)*(1.0 - x2)*sym.log(x1*x2*(1.0 - x1)*(1.0 - x2))) + sym.sqrt(-sym.log(x1*x2*(1.0 - x1)*(1.0 - x2)))*(-x1*x2*(1.0 - x2) + x2*(1.0 - x1)*(1.0 - x2))/(2*x1*x2*(1.0 - x1)*(1.0 - x2)**2*sym.log(x1*x2*(1.0 - x1)*(1.0 - x2))) - sym.sqrt(-sym.log(x1*x2*(1.0 - x1)*(1.0 - x2)))*(-x1*x2*(1.0 - x2) + x2*(1.0 - x1)*(1.0 - x2))/(2*x1*x2**2*(1.0 - x1)*(1.0 - x2)*sym.log(x1*x2*(1.0 - x1)*(1.0 - x2))) - sym.sqrt(-sym.log(x1*x2*(1.0 - x1)*(1.0 - x2)))*(-x1*x2*(1.0 - x1) + x1*(1.0 - x1)*(1.0 - x2))*(-x1*x2*(1.0 - x2) + x2*(1.0 - x1)*(1.0 - x2))/(4*x1**2*x2**2*(1.0 - x1)**2*(1.0 - x2)**2*sym.log(x1*x2*(1.0 - x1)*(1.0 - x2))**2)\n",
        "                     ],\n",
        "                     [\n",
        "                       sym.sqrt(-sym.log(x1*x2*(1.0 - x1)*(1.0 - x2)))*(x1*x2 - x1*(1.0 - x2) - x2*(1.0 - x1) + (1.0 - x1)*(1.0 - x2))/(2*x1*x2*(1.0 - x1)*(1.0 - x2)*sym.log(x1*x2*(1.0 - x1)*(1.0 - x2))) + sym.sqrt(-sym.log(x1*x2*(1.0 - x1)*(1.0 - x2)))*(-x1*x2*(1.0 - x2) + x2*(1.0 - x1)*(1.0 - x2))/(2*x1*x2*(1.0 - x1)*(1.0 - x2)**2*sym.log(x1*x2*(1.0 - x1)*(1.0 - x2))) - sym.sqrt(-sym.log(x1*x2*(1.0 - x1)*(1.0 - x2)))*(-x1*x2*(1.0 - x2) + x2*(1.0 - x1)*(1.0 - x2))/(2*x1*x2**2*(1.0 - x1)*(1.0 - x2)*sym.log(x1*x2*(1.0 - x1)*(1.0 - x2))) - sym.sqrt(-sym.log(x1*x2*(1.0 - x1)*(1.0 - x2)))*(-x1*x2*(1.0 - x1) + x1*(1.0 - x1)*(1.0 - x2))*(-x1*x2*(1.0 - x2) + x2*(1.0 - x1)*(1.0 - x2))/(4*x1**2*x2**2*(1.0 - x1)**2*(1.0 - x2)**2*sym.log(x1*x2*(1.0 - x1)*(1.0 - x2))**2),\n",
        "                       -sym.sqrt(-sym.log(x1*x2*(1.0 - x1)*(1.0 - x2)))/(x2*(1.0 - x2)*sym.log(x1*x2*(1.0 - x1)*(1.0 - x2))) + sym.sqrt(-sym.log(x1*x2*(1.0 - x1)*(1.0 - x2)))*(-x1*x2*(1.0 - x1) + x1*(1.0 - x1)*(1.0 - x2))/(2*x1*x2*(1.0 - x1)*(1.0 - x2)**2*sym.log(x1*x2*(1.0 - x1)*(1.0 - x2))) - sym.sqrt(-sym.log(x1*x2*(1.0 - x1)*(1.0 - x2)))*(-x1*x2*(1.0 - x1) + x1*(1.0 - x1)*(1.0 - x2))/(2*x1*x2**2*(1.0 - x1)*(1.0 - x2)*sym.log(x1*x2*(1.0 - x1)*(1.0 - x2))) - sym.sqrt(-sym.log(x1*x2*(1.0 - x1)*(1.0 - x2)))*(-x1*x2*(1.0 - x1) + x1*(1.0 - x1)*(1.0 - x2))**2/(4*x1**2*x2**2*(1.0 - x1)**2*(1.0 - x2)**2*sym.log(x1*x2*(1.0 - x1)*(1.0 - x2))**2)\n",
        "                     ]\n",
        "                     ])\n"
      ],
      "metadata": {
        "id": "qnN37XEaRqB7"
      },
      "execution_count": null,
      "outputs": []
    },
    {
      "cell_type": "markdown",
      "source": [
        "## classifica_pontos_estacionarios"
      ],
      "metadata": {
        "id": "kT07x-otSPd0"
      }
    },
    {
      "cell_type": "code",
      "source": [
        "def classifica_pontos_estacionarios(autovalores, ponto):\n",
        "  \"\"\" Dado uma lista de autovalores, retorna a classificação do ponto\n",
        "\n",
        "  Args:\n",
        "      autovalores (dict): Um dicionário onde a chave é o auto-valor e \n",
        "                          o valor é o número de vezes que ele aparece\n",
        "                          na matriz.\n",
        "      ponto (Tupla): Uma tupla contendo o par de pontos.\n",
        "\n",
        "  Returns:\n",
        "      str: Retorna a classificação do ponto.\n",
        "  \"\"\"\n",
        "  \n",
        "  if all(autovalor > 0 for autovalor in autovalores):\n",
        "    return f\"O ponto {ponto} é um ponto de mínimo local\"\n",
        "  elif all(autovalor < 0 for autovalor in autovalores):\n",
        "    return f\"O ponto {ponto} é um ponto de máximo local\"\n",
        "  elif (any(autovalor > 0 for autovalor in autovalores) and \n",
        "        any(autovalor < 0 for autovalor in autovalores)\n",
        "      ):\n",
        "    return f\"O ponto {ponto} é um ponto de sela\"\n",
        "  else:\n",
        "    return f\"Não é possível classificar o ponto {ponto}\""
      ],
      "metadata": {
        "id": "2emI5BXlNW-S"
      },
      "execution_count": null,
      "outputs": []
    },
    {
      "cell_type": "markdown",
      "source": [
        "## funcao_x1_x2"
      ],
      "metadata": {
        "id": "nmehYI8wTXqo"
      }
    },
    {
      "cell_type": "code",
      "source": [
        "def funcao_x1_x2(equacao, ponto):\n",
        "  \"\"\" Dado uma equação, substitui o ponto na equação e retorna o resultado\n",
        "\n",
        "  Args:\n",
        "      equacao (Callable): A função que terá seus valores substituidos.\n",
        "      ponto (Tupla): Uma tupla contendo o par de pontos.\n",
        "\n",
        "  Returns:\n",
        "      float: Retorna o resultado da função no ponto.\n",
        "  \"\"\"\n",
        "  \n",
        "  equacao = sym.lambdify(vetor, equacao)\n",
        "  return equacao(ponto[0], ponto[1])"
      ],
      "metadata": {
        "id": "24xmsAyITXKu"
      },
      "execution_count": null,
      "outputs": []
    },
    {
      "cell_type": "markdown",
      "source": [
        "## gradiente_x1_x2"
      ],
      "metadata": {
        "id": "nSrhCeChmmsp"
      }
    },
    {
      "cell_type": "code",
      "source": [
        "def gradiente_x1_x2(gradiente, ponto):\n",
        "  \"\"\" Dado um gradiente, substitui o ponto e retorna o resultado\n",
        "\n",
        "  Args:\n",
        "      gradiente (Matrix): Uma matriz contendo o gradiente da função.\n",
        "      ponto (Tupla): Uma tupla contendo o par de pontos.\n",
        "\n",
        "  Returns:\n",
        "      Matrix: Uma matriz com os pontos substituidos.\n",
        "  \"\"\"\n",
        "  \n",
        "  return gradiente.subs(zip(vetor, ponto))"
      ],
      "metadata": {
        "id": "exW6bVvumopW"
      },
      "execution_count": null,
      "outputs": []
    },
    {
      "cell_type": "markdown",
      "source": [
        "## hessiana_x1_x2"
      ],
      "metadata": {
        "id": "JmhLyO_mmE_m"
      }
    },
    {
      "cell_type": "code",
      "source": [
        "def hessiana_x1_x2(hessiana, ponto):\n",
        "  \"\"\" Dado uma hessiana, substitui o ponto e retorna o resultado\n",
        "\n",
        "  Args:\n",
        "      hessiana (Matrix): Uma matriz contendo a hessiana da função.\n",
        "      ponto (Tupla): Uma tupla contendo o par de pontos.\n",
        "\n",
        "  Returns:\n",
        "      Matrix: Uma matriz com os pontos substituidos.\n",
        "  \"\"\"\n",
        "  \n",
        "  return hessiana.subs(zip(vetor, ponto))"
      ],
      "metadata": {
        "id": "gHLz3sgImHGK"
      },
      "execution_count": null,
      "outputs": []
    },
    {
      "cell_type": "markdown",
      "source": [
        "## transpoe_matriz"
      ],
      "metadata": {
        "id": "gDUAuaJ6lwJi"
      }
    },
    {
      "cell_type": "code",
      "source": [
        "def transpoe_matriz(matriz):\n",
        "  \"\"\" Dado uma matriz, retorna a sua transposta\n",
        "\n",
        "  Args:\n",
        "      matriz (Matrix): Uma matriz MxN.\n",
        "\n",
        "  Returns:\n",
        "      Matrix: Uma matriz transposta.\n",
        "  \"\"\"\n",
        "  \n",
        "  return matriz.transpose()"
      ],
      "metadata": {
        "id": "i5iVZlIjl0cm"
      },
      "execution_count": null,
      "outputs": []
    },
    {
      "cell_type": "markdown",
      "source": [
        "## sympy_to_numpy"
      ],
      "metadata": {
        "id": "XmaqnB1crCmo"
      }
    },
    {
      "cell_type": "code",
      "source": [
        "def sympy_to_numpy(vetor):\n",
        "  \"\"\" Converte um vetor no tipo sympy para um np array.\n",
        "\n",
        "  Args:\n",
        "      vetor (Matrix): Uma matriz MxN.\n",
        "\n",
        "  Returns:\n",
        "      np.array: Um np array do vetor inputado.\n",
        "  \"\"\"\n",
        "  \n",
        "  return np.array(vetor).astype(np.float64)"
      ],
      "metadata": {
        "id": "zYxGBvqJrEo8"
      },
      "execution_count": null,
      "outputs": []
    },
    {
      "cell_type": "markdown",
      "source": [
        "## ponto_aleatorio"
      ],
      "metadata": {
        "id": "5hUTwrgA3KZk"
      }
    },
    {
      "cell_type": "code",
      "source": [
        "def ponto_aleatorio():\n",
        "  \"\"\" Gera um par de pontos aleatório entre 0.01 e 0.99.\n",
        "\n",
        "  Returns:\n",
        "      Tupla: Um par de floats.\n",
        "  \"\"\"\n",
        "  \n",
        "  numeros = np.random.uniform(low=0.1, high=1, size=2)\n",
        "  return (float(numeros[0]), float(numeros[1]))"
      ],
      "metadata": {
        "id": "t45j6ByD3MQ_"
      },
      "execution_count": null,
      "outputs": []
    },
    {
      "cell_type": "markdown",
      "source": [
        "## modulo"
      ],
      "metadata": {
        "id": "iQIxkZq7GT1X"
      }
    },
    {
      "cell_type": "code",
      "source": [
        "def modulo(vetor):\n",
        "  \"\"\" Gera o módulo de um vetor\n",
        "\n",
        "  Args:\n",
        "      vetor (Matrix): O vetor que terá a normal calculada.\n",
        "\n",
        "  Returns:\n",
        "      float: Módulo do vetor.\n",
        "  \"\"\"\n",
        "  \n",
        "  return np.linalg.norm(sympy_to_numpy(vetor))"
      ],
      "metadata": {
        "id": "VDTRGQxyGVCi"
      },
      "execution_count": null,
      "outputs": []
    },
    {
      "cell_type": "markdown",
      "source": [
        "## inversa"
      ],
      "metadata": {
        "id": "K2WXPUAIz6oR"
      }
    },
    {
      "cell_type": "code",
      "source": [
        "def inversa(matriz):\n",
        "  \"\"\" Gera a matriz inversa de uma matriz\n",
        "\n",
        "  Args:\n",
        "      matriz (Matrix): A matriz que será invertida.\n",
        "\n",
        "  Returns:\n",
        "      Matrix: Matriz inversa.\n",
        "  \"\"\"\n",
        "  return np.linalg.inv(sympy_to_numpy(matriz))"
      ],
      "metadata": {
        "id": "YK8-PsJLxAE9"
      },
      "execution_count": null,
      "outputs": []
    },
    {
      "cell_type": "markdown",
      "source": [
        "## gera_tabela_resultado"
      ],
      "metadata": {
        "id": "8V8WYkGlI6zS"
      }
    },
    {
      "cell_type": "code",
      "source": [
        "def gera_tabela_resultado(resultados):\n",
        "  \"\"\" Gera a tabela de resultados dada uma lista de resultados contendo\n",
        "    X0, Iter., Call. Armijo, Opt. Point, Opt. Value, Error e\n",
        "    imprime essa tabela\n",
        "\n",
        "  Args:\n",
        "      resultados (list): Lista de resultados com o ponto em questão\n",
        "\n",
        "  \"\"\"\n",
        "\n",
        "  pd.set_option('display.max_rows', None)\n",
        "  pd.set_option('display.max_columns', None)\n",
        "  pd.set_option('display.width', 1000)\n",
        "  pd.set_option('display.colheader_justify', 'center')\n",
        "  pd.set_option(\"display.precision\", 15)\n",
        "\n",
        "  tabela = {\n",
        "    'X0': [], \n",
        "    'Iter.':[],\n",
        "    'Call. Armijo':[],\n",
        "    'Opt. Point':[],\n",
        "    'Opt. Value':[],\n",
        "    'Error':[]\n",
        "  }\n",
        "\n",
        "  for resultado in resultados:\n",
        "    tabela['X0'].append(resultado[0])\n",
        "    tabela['Iter.'].append(resultado[1])\n",
        "    tabela['Call. Armijo'].append(resultado[2])\n",
        "    tabela['Opt. Point'].append(resultado[3])\n",
        "    tabela['Opt. Value'].append(resultado[4])\n",
        "    tabela['Error'].append(resultado[5])\n",
        "  display(\n",
        "      (pd.DataFrame(tabela, columns = tabela.keys()))\n",
        "      .style.hide_index()\n",
        "      .set_properties(**{'text-align': 'center'})\n",
        "  )"
      ],
      "metadata": {
        "id": "Vrfii4I_I6eE"
      },
      "execution_count": null,
      "outputs": []
    },
    {
      "cell_type": "markdown",
      "source": [
        "## define_precisao_do_float"
      ],
      "metadata": {
        "id": "dFyAsfi1SRqz"
      }
    },
    {
      "cell_type": "code",
      "source": [
        "def define_precisao_do_float(valor):\n",
        "  \"\"\" Gera uma string garantindo a precisão do valor\n",
        "\n",
        "  Args:\n",
        "      valor (float): Float que terá seu formato alterado\n",
        "\n",
        "  Returns:\n",
        "      str: O valor formatado com precisão de 8 dígitos.\n",
        "  \"\"\"\n",
        "  \n",
        "  return format(valor, '.9f')"
      ],
      "metadata": {
        "id": "KjR59GZPSRNz"
      },
      "execution_count": null,
      "outputs": []
    },
    {
      "cell_type": "markdown",
      "source": [
        "## gera_notacao_cientifica"
      ],
      "metadata": {
        "id": "pZs-ftdYfYDL"
      }
    },
    {
      "cell_type": "code",
      "source": [
        "def gera_notacao_cientifica(valor):\n",
        "  \"\"\" Gera uma string garantindo a precisão do valor como notação científica\n",
        "\n",
        "  Args:\n",
        "      valor (float): Float que terá seu formato alterado\n",
        "\n",
        "  Returns:\n",
        "      str: O valor formatado como notação científica.\n",
        "  \"\"\"\n",
        "  \n",
        "  return \"{:.2e}\".format(valor)"
      ],
      "metadata": {
        "id": "LEd4lHGHevki"
      },
      "execution_count": null,
      "outputs": []
    },
    {
      "cell_type": "markdown",
      "source": [
        "# Estudo da função"
      ],
      "metadata": {
        "id": "1NHLY3jcxFHq"
      }
    },
    {
      "cell_type": "markdown",
      "source": [
        "## Pontos críticos"
      ],
      "metadata": {
        "id": "KQQg-1t2wqG9"
      }
    },
    {
      "cell_type": "markdown",
      "source": [
        "Para encontrar o ponto crítico dessa função é necessário primeiramente calcular o gradiente desta função, deste modo, temos:"
      ],
      "metadata": {
        "id": "Fll4byLby6p2"
      }
    },
    {
      "cell_type": "markdown",
      "source": [
        "\\begin{equation}\n",
        "  \\nabla f(x_1, x_2) = (\\frac{\\partial{f(x_1, x_2)}}{\\partial{x_1}}, \\frac{\\partial{f(x_1, x_2)}}{\\partial{x_2}})\n",
        "\\end{equation}"
      ],
      "metadata": {
        "id": "4RGKIWn7zByN"
      }
    },
    {
      "cell_type": "markdown",
      "source": [
        "Assim, para facilitar a leitura, podemos derivar a função primeiro quanto a $x_1$, desta forma temos:"
      ],
      "metadata": {
        "id": "z1AhBAJOzu5k"
      }
    },
    {
      "cell_type": "markdown",
      "source": [
        "\\begin{equation}\n",
        "  \\frac{\\partial{f(x_1, x_2)}}{\\partial{x_1}} = \\frac{1 - 2x_1}{2(x_1-1)x_1\\sqrt{-\\log{((x_1-1)x_1(x_2-1)x_2)}}}\n",
        "\\end{equation} "
      ],
      "metadata": {
        "id": "mv7nOLqYz_PS"
      }
    },
    {
      "cell_type": "markdown",
      "source": [
        "Para a derivada parcial em $x_1$, temos que os pontos críticos serão:"
      ],
      "metadata": {
        "id": "f4agHa1-2653"
      }
    },
    {
      "cell_type": "markdown",
      "source": [
        "\\begin{equation}\n",
        "  \\frac{1 - 2x_1}{2(x_1-1)x_1\\sqrt{-\\log{((x_1-1)x_1(x_2-1)x_2)}}} = 0\n",
        "\\end{equation}"
      ],
      "metadata": {
        "id": "O65_KTYI3Fvs"
      }
    },
    {
      "cell_type": "markdown",
      "source": [
        "Observando melhor a função, temos que o ponto onde o numerador se iguala a 0, será o valor $x_1 = \\frac{1}{2}$, assim, temos:"
      ],
      "metadata": {
        "id": "IdokUMXq42Gw"
      }
    },
    {
      "cell_type": "markdown",
      "source": [
        "\\begin{equation}\n",
        "  \\frac{0}{\\frac{-1}{2}\\sqrt{-\\log{(-\\frac{1}{4}(x_2 -1)x_2)}}}\n",
        "\\end{equation}"
      ],
      "metadata": {
        "id": "gPUDpiP55Z-w"
      }
    },
    {
      "cell_type": "markdown",
      "source": [
        "Assim, tendo que para qualquer valor de $x_2$, que satisfaça a condição de que:\n",
        "\n",
        "$- \\frac{1}{4}(x_2 -1)x_2 > 0$ e que $ \\log{(- \\frac{1}{4}(x_2 -1)x_2)} < 0$, assim a função será respeitada juntamente ao seu domínio."
      ],
      "metadata": {
        "id": "z4mDCbDk6M4N"
      }
    },
    {
      "cell_type": "markdown",
      "source": [
        "Já para a derivada parcial com relação à $x_2$ temos a seguinte equação:"
      ],
      "metadata": {
        "id": "qffBnGCM1oZG"
      }
    },
    {
      "cell_type": "markdown",
      "source": [
        "\\begin{equation}\n",
        "  \\frac{\\partial{f(x_1, x_2)}}{\\partial{x_2}} = \\frac{1 - 2x_2}{2(x_2-1)x_2\\sqrt{-\\log{((x_1-1)x_1(x_2-1)x_2)}}}\n",
        "\\end{equation}"
      ],
      "metadata": {
        "id": "3sRRciYJ1tCW"
      }
    },
    {
      "cell_type": "markdown",
      "source": [
        "Para a derivada parcial em $x_2$, temos que os pontos críticos serão:"
      ],
      "metadata": {
        "id": "flYQl6FPEsP5"
      }
    },
    {
      "cell_type": "markdown",
      "source": [
        "\\begin{equation}\n",
        "  \\frac{1 - 2x_2}{2(x_2-1)x_2\\sqrt{-\\log{((x_1-1)x_1(x_2-1)x_2)}}} = 0\n",
        "\\end{equation}"
      ],
      "metadata": {
        "id": "VJfqQ6tHE0RV"
      }
    },
    {
      "cell_type": "markdown",
      "source": [
        "Observando melhor a função, temos que o ponto onde o numerador se iguala a 0, será o valor $x_2 = \\frac{1}{2}$, assim, temos:"
      ],
      "metadata": {
        "id": "Otc0BPdF7dg3"
      }
    },
    {
      "cell_type": "markdown",
      "source": [
        "\\begin{equation}\n",
        "  \\frac{0}{\\frac{-1}{2}\\sqrt{-\\log{(-\\frac{1}{4}(x_1 -1)x_1)}}}\n",
        "\\end{equation}"
      ],
      "metadata": {
        "id": "_8q4xlHs7xAu"
      }
    },
    {
      "cell_type": "markdown",
      "source": [
        "Desta forma, tal como a derivada parcial em $x_1$, teremos os mesmos limitantes pois a função se assemelha. Assim, temos que, para esta função, o único ponto crítico que temos é $(\\frac{1}{2}, \\frac{1}{2})$, sendo este um ponto de mínimo."
      ],
      "metadata": {
        "id": "wVlNgLv679jy"
      }
    },
    {
      "cell_type": "markdown",
      "source": [
        "### Ponto crítico encontrado"
      ],
      "metadata": {
        "id": "Y5V0_gHBUGFM"
      }
    },
    {
      "cell_type": "code",
      "source": [
        "ponto_critico = (1/2, 1/2)"
      ],
      "metadata": {
        "id": "l_6gTC0gT9Jk"
      },
      "execution_count": null,
      "outputs": []
    },
    {
      "cell_type": "markdown",
      "source": [
        "## Gráfico da função"
      ],
      "metadata": {
        "id": "NZa6Pl22wys0"
      }
    },
    {
      "cell_type": "markdown",
      "source": [
        "### 3D Plot (Parte Real)\n",
        "\n",
        "![Plot 3D da Função](https://cdn.discordapp.com/attachments/499753935754756098/941503169094099024/unknown.png)\n"
      ],
      "metadata": {
        "id": "v2XN_dKZ86dx"
      }
    },
    {
      "cell_type": "markdown",
      "source": [
        "### Curva de Nível (Parte Real)\n",
        "\n",
        "![Plot 3D da Função](https://cdn.discordapp.com/attachments/499753935754756098/941502885211021372/unknown.png)"
      ],
      "metadata": {
        "id": "SXWEhdMfV3do"
      }
    },
    {
      "cell_type": "markdown",
      "source": [
        "# Métodos"
      ],
      "metadata": {
        "id": "FB34WfJPxDjP"
      }
    },
    {
      "cell_type": "markdown",
      "source": [
        "## Detecção de mínimo"
      ],
      "metadata": {
        "id": "4mQmR-e45kzm"
      }
    },
    {
      "cell_type": "code",
      "source": [
        "def detecta_minimo(equacao, ponto):\n",
        "  \"\"\" Dada uma equação e um ponto, classifica este ponto\n",
        "  \n",
        "  Args:\n",
        "      equacao (Callable): Equação à ter seu ponto avaliado\n",
        "      ponto (Tupla): ponto que será avaliado.\n",
        "  \"\"\"\n",
        "\n",
        "  hessiana = calcula_hessiana_da_funcao(equacao)\n",
        "\n",
        "  hessiana_no_ponto = hessiana_x1_x2(hessiana, ponto)\n",
        "\n",
        "  print(classifica_pontos_estacionarios(hessiana_no_ponto.eigenvals(), ponto))"
      ],
      "metadata": {
        "id": "jmKp-Bqn5nZI"
      },
      "execution_count": null,
      "outputs": []
    },
    {
      "cell_type": "code",
      "source": [
        "detecta_minimo(funcao, ponto_critico)"
      ],
      "metadata": {
        "colab": {
          "base_uri": "https://localhost:8080/"
        },
        "id": "fMm6ESUoIPG7",
        "outputId": "57ad1a03-77b2-435d-9a4e-5e5b68856328"
      },
      "execution_count": null,
      "outputs": [
        {
          "output_type": "stream",
          "name": "stdout",
          "text": [
            "O ponto (0.5, 0.5) é um ponto de mínimo local\n"
          ]
        }
      ]
    },
    {
      "cell_type": "markdown",
      "source": [
        "## Armijo"
      ],
      "metadata": {
        "id": "AFglv-hAxMs6"
      }
    },
    {
      "cell_type": "code",
      "source": [
        "def armijo(ponto, direcao, eta, gamma, passo):\n",
        "  \"\"\" Teste de Armijo procura uma redução da função ao longo de\n",
        "      uma direção não necessariamente minimizando, não garantindo o ótimo.\n",
        "      \n",
        "  Referência: \n",
        "      Slide COS360_NL_alg_descida.pdf\n",
        "\n",
        "  Args:\n",
        "      ponto (Tupla): Ponto atual\n",
        "      direcao (Tupla): Direção de decréscimo.\n",
        "      eta (Double): Erro (0, 1)\n",
        "      gamma (Double): Fator de correção\n",
        "      passo (Double): Tamanho do passo\n",
        "\n",
        "  Returns:\n",
        "        Tupla: Retorna uma tupla contendo o valor do passo e \n",
        "               o número de iteracoes para alcançar esse passo.\n",
        "  \"\"\"\n",
        "\n",
        "  iteracoes = 0\n",
        "\n",
        "  gradiente_de_f = calcula_gradiente_da_funcao(funcao)\n",
        "\n",
        "  funcao_no_ponto = funcao_x1_x2(funcao, ponto)\n",
        "  gradiente_no_ponto_transposto = sympy_to_numpy(transpoe_matriz(gradiente_x1_x2(gradiente_de_f, ponto)))\n",
        "  \n",
        "  while funcao_x1_x2(funcao, (float(ponto[0] + (passo * direcao)[0]), float(ponto[1] + (passo * direcao)[1]))) > funcao_no_ponto + eta * passo * (gradiente_no_ponto_transposto[0] * direcao[0] + gradiente_no_ponto_transposto[1] * direcao[1]):\n",
        "    passo *= gamma\n",
        "    iteracoes += 1\n",
        "  return passo, iteracoes"
      ],
      "metadata": {
        "id": "Xmld2P1t5n33"
      },
      "execution_count": null,
      "outputs": []
    },
    {
      "cell_type": "markdown",
      "source": [
        "## Gradiente"
      ],
      "metadata": {
        "id": "VBAjW8nww5sd"
      }
    },
    {
      "cell_type": "code",
      "source": [
        "def metodo_do_gradiente(max_iteracoes, limite, ponto_inicial, eta, gamma, passo_inicial):\n",
        "  \"\"\" O método de gradiente é um dos métodos mais simples, utilizando como direção\n",
        "      a direção oposta ao gradiente em um ponto.\n",
        "  \n",
        "  Referência: \n",
        "      Slide COS360_NL_gradiente.pdf\n",
        "\n",
        "  Args:\n",
        "      max_iteracoes (Int): Número máximo de iterações\n",
        "      limite (Double): Valor de controle do loop principal\n",
        "      ponto_inicial (Tupla): Ponto inicial do método\n",
        "      eta (Double): Erro (0, 1)\n",
        "      gamma (Double): Fator de correção\n",
        "      passo_inicial (Double): Tamanho do passo no armijo\n",
        "\n",
        "  Returns:\n",
        "        Tupla: Retorna uma tupla contendo o ponto escolhido, número de iteracoes do gradiente,\n",
        "              número de iteracoes de armijo, o ponto ótimo, o valor ótimo e o erro obtido \n",
        "  \"\"\"\n",
        "  iteracoes_gradiente = 0\n",
        "  iteracoes_armijo = 0\n",
        "  ponto_otimo = ponto_inicial\n",
        "\n",
        "  gradiente_de_f = calcula_gradiente_da_funcao(funcao)\n",
        "  \n",
        "  while modulo(gradiente_x1_x2(gradiente_de_f, ponto_otimo)) > limite and iteracoes_gradiente < max_iteracoes:\n",
        "    direcao = -gradiente_x1_x2(gradiente_de_f, ponto_otimo)\n",
        "    passo, iteracoes = armijo(ponto_otimo, direcao, eta, gamma, passo_inicial)\n",
        "\n",
        "    ponto_otimo = (float(ponto_otimo[0] + (passo * direcao[0])), float(ponto_otimo[1] + (passo * direcao[1])))\n",
        "    iteracoes_gradiente += 1\n",
        "    iteracoes_armijo += iteracoes\n",
        "\n",
        "  otimo = funcao_x1_x2(funcao, ponto_otimo)\n",
        "  erro = modulo(gradiente_x1_x2(gradiente_de_f, ponto_otimo))\n",
        "  return ponto_inicial, iteracoes_gradiente, iteracoes_armijo, (define_precisao_do_float(ponto_otimo[0]), define_precisao_do_float(ponto_otimo[1])), otimo, gera_notacao_cientifica(erro)\n"
      ],
      "metadata": {
        "id": "3cDING9MURJF"
      },
      "execution_count": null,
      "outputs": []
    },
    {
      "cell_type": "markdown",
      "source": [
        "## Newton"
      ],
      "metadata": {
        "id": "nowCG_s1w7AJ"
      }
    },
    {
      "cell_type": "code",
      "source": [
        "def metodo_de_newton(max_iteracoes, limite, ponto_inicial, eta, gamma, passo_inicial):\n",
        "  \"\"\" O método de newton utiliza o polinômio de Taylor de primeira ordem para\n",
        "      aproximar o gradiente de f em x1 e x2 = 0. Utilizando a inversa da Hessiana\n",
        "      para determinar a direção da busca.\n",
        "\n",
        "  Referência: Slide COS360_NL_newton.pdf\n",
        "\n",
        "  Args:\n",
        "      max_iteracoes (Int): Número máximo de iterações\n",
        "      limite (Double): Valor de controle do loop principal\n",
        "      ponto_inicial (Tupla): Ponto inicial do método\n",
        "      eta (Double): Erro (0, 1)\n",
        "      gamma (Double): Fator de correção\n",
        "      passo_inicial (Double): Tamanho do passo no armijo\n",
        "\n",
        "  Returns:\n",
        "        Tupla: Retorna uma tupla contendo o ponto escolhido, número de iteracoes do newton,\n",
        "              número de iteracoes de armijo, o ponto ótimo, o valor ótimo e o erro obtido \n",
        "  \"\"\"\n",
        "  iteracoes_newton = 0\n",
        "  iteracoes_armijo = 0\n",
        "  ponto_otimo = ponto_inicial\n",
        "\n",
        "  gradiente_de_f = calcula_gradiente_da_funcao(funcao)\n",
        "  hessiana_de_f = calcula_hessiana_da_funcao(funcao)\n",
        "  \n",
        "  while modulo(gradiente_x1_x2(gradiente_de_f, ponto_otimo)) > limite and iteracoes_newton < max_iteracoes:\n",
        "    inversa_hessiana = inversa(hessiana_x1_x2(hessiana_de_f, ponto_otimo))\n",
        "    direcao = -np.dot(inversa_hessiana, sympy_to_numpy(transpoe_matriz(gradiente_x1_x2(gradiente_de_f, ponto_otimo))))\n",
        "    passo, iteracoes = armijo(ponto_otimo, direcao, eta, gamma, passo_inicial)\n",
        "\n",
        "    ponto_otimo = (float(ponto_otimo[0] + (passo * direcao[0])), float(ponto_otimo[1] + (passo * direcao[1])))\n",
        "    iteracoes_newton += 1\n",
        "    iteracoes_armijo += iteracoes\n",
        "\n",
        "  otimo = funcao_x1_x2(funcao, ponto_otimo)\n",
        "  erro = modulo(gradiente_x1_x2(gradiente_de_f, ponto_otimo))\n",
        "  return ponto_inicial, iteracoes_newton, iteracoes_armijo, (define_precisao_do_float(ponto_otimo[0]), define_precisao_do_float(ponto_otimo[1])), otimo, gera_notacao_cientifica(erro)\n"
      ],
      "metadata": {
        "id": "Yfd9gc5d5oU_"
      },
      "execution_count": null,
      "outputs": []
    },
    {
      "cell_type": "markdown",
      "source": [
        "## quase-Newton"
      ],
      "metadata": {
        "id": "yHYPT8ddw8fv"
      }
    },
    {
      "cell_type": "markdown",
      "source": [
        "O método bgfs de aproximação utiliza a seguinte aproximação para se aproximar da inversa da hessiana:\n",
        "\n",
        "\n",
        "\\begin{equation}\n",
        "  H_{k+1} = H_k + \\left(1 + \\frac{q_k^TH_kq_k}{p_k^Tq_k}\\right)\\frac{p_k^Tp_k}{p_k^Tq_k} - \\frac{p_kq_k^TH_k + q_kp_k^T}{p_k^Tq_k}\n",
        "\\end{equation}"
      ],
      "metadata": {
        "id": "JLB7BBG2tMzK"
      }
    },
    {
      "cell_type": "code",
      "source": [
        "def bfgs(H, p, q):\n",
        "  \"\"\" \n",
        "  \n",
        "  Referência: \n",
        "      Slide COS360_NL_quasenewton.pdf\n",
        "\n",
        "  Args:\n",
        "      H (Matrix): Matriz aproximada da hessiana\n",
        "      p (Matrix): Vetor advindo da diferença entre o próximo ponto e o atual\n",
        "      q (Matrix): Vetor advindo da diferença entre os gradientes no próximo ponto e no atual\n",
        "\n",
        "  Returns:\n",
        "        Matrix: Retorna nova Matriz aproximada da hessiana \n",
        "  \"\"\"\n",
        "  q_t = transpoe_matriz(q)\n",
        "  p_t = transpoe_matriz(p)\n",
        "  common_denom = np.dot(p_t, q)\n",
        "  segundo_termo = 1 + (np.linalg.multi_dot([q_t, H, q])/common_denom)*(np.dot(p, p_t)/common_denom)\n",
        "  terceiro_termo = (np.linalg.multi_dot([p, q_t, H]) + np.linalg.multi_dot([H, q, p_t]))/common_denom\n",
        "  return H + segundo_termo - terceiro_termo\n",
        "  "
      ],
      "metadata": {
        "id": "VSF94MFn_GFp"
      },
      "execution_count": null,
      "outputs": []
    },
    {
      "cell_type": "code",
      "source": [
        "def metodo_quase_newton(max_iteracoes, limite, ponto_inicial, eta, gamma, passo_inicial):\n",
        "  \"\"\" O método de quase-Newton tem como objetivo ser um algoritmo menos custoso\n",
        "      computacionalmente que o método de Newton e que converge mais\n",
        "      rapidamente que o método do Gradiente. Para isso, uma das aproximações\n",
        "      da inversa da Hessiana utilizada para cada iteração (direção da busca)\n",
        "      é o BGFS, que é a aproximação utilizada neste código.\n",
        "\n",
        "  Referência: \n",
        "      Slide COS360_NL_quasenewton.pdf\n",
        "\n",
        "  Args:\n",
        "      max_iteracoes (Int): Número máximo de iterações\n",
        "      limite (Double): Valor de controle do loop principal\n",
        "      ponto_inicial (List): Ponto inicial do método\n",
        "      eta (Double): Erro (0, 1)\n",
        "      gamma (Double): Fator de correção\n",
        "      passo_inicial (Double): Tamanho do passo do armijo\n",
        "\n",
        "  Returns:\n",
        "        Tupla: Retorna uma tupla contendo o ponto escolhido, número de iteracoes do quasenewton,\n",
        "              número de iteracoes de armijo, o ponto ótimo, o valor ótimo e o erro obtido \n",
        "  \"\"\"\n",
        "  iteracoes_quasenewton = 0\n",
        "  iteracoes_armijo = 0\n",
        "  ponto_otimo = ponto_inicial\n",
        "  H = np.array([[1,0],[0,1]])\n",
        "\n",
        "  gradiente_de_f = calcula_gradiente_da_funcao(funcao)\n",
        "  hessiana_de_f = calcula_hessiana_da_funcao(funcao)\n",
        "  \n",
        "  while modulo(gradiente_x1_x2(gradiente_de_f, ponto_otimo)) > limite and iteracoes_quasenewton < max_iteracoes:\n",
        "    direcao = -np.dot(H, sympy_to_numpy(transpoe_matriz(gradiente_x1_x2(gradiente_de_f, ponto_otimo))))\n",
        "    passo, iteracoes = armijo(ponto_otimo, direcao, eta, gamma, passo_inicial)\n",
        "    \n",
        "    proximo_ponto = (float(ponto_otimo[0] + (passo * direcao[0])), float(ponto_otimo[1] + (passo * direcao[1])))\n",
        "    p = sym.Matrix([float(proximo_ponto[0] - ponto_otimo[0]), float(proximo_ponto[1] - ponto_otimo[1])])\n",
        "    q = transpoe_matriz(sym.Matrix(gradiente_x1_x2(gradiente_de_f, proximo_ponto) - gradiente_x1_x2(gradiente_de_f, ponto_otimo)))\n",
        "    \n",
        "    ponto_otimo = proximo_ponto\n",
        "\n",
        "    # Utilizando BFGS\n",
        "    H = bfgs(H, p, q)\n",
        "    iteracoes_quasenewton += 1\n",
        "    iteracoes_armijo += iteracoes\n",
        "\n",
        "  otimo = funcao_x1_x2(funcao, ponto_otimo)\n",
        "  erro = modulo(gradiente_x1_x2(gradiente_de_f, ponto_otimo))\n",
        "  return ponto_inicial, iteracoes_quasenewton, iteracoes_armijo, (define_precisao_do_float(ponto_otimo[0]), define_precisao_do_float(ponto_otimo[1])), otimo, gera_notacao_cientifica(erro)\n"
      ],
      "metadata": {
        "id": "9PfO86nK5oIX"
      },
      "execution_count": null,
      "outputs": []
    },
    {
      "cell_type": "markdown",
      "source": [
        "# Resultados"
      ],
      "metadata": {
        "id": "qV8tzeDThFKk"
      }
    },
    {
      "cell_type": "markdown",
      "source": [
        "## Critérios de Parada"
      ],
      "metadata": {
        "id": "e5CQbaurwO0Y"
      }
    },
    {
      "cell_type": "markdown",
      "source": [
        "Para os algoritmos acima, os critérios de parada definidos foram:\n",
        "\n",
        "* Número máximo de iterações (40)\n",
        "* Módulo do gradiente no ponto ótimo tendendo à um limite ($10^{-7}$)\n"
      ],
      "metadata": {
        "id": "Z4tXripzvHDV"
      }
    },
    {
      "cell_type": "code",
      "source": [
        "limite = 0.0000001\n",
        "maximo_iteracoes = 40"
      ],
      "metadata": {
        "id": "McW3KBsrwRMV"
      },
      "execution_count": null,
      "outputs": []
    },
    {
      "cell_type": "markdown",
      "source": [
        "Além disso, para todos os algoritmos abaixo, escolhemos um conjunto de 7 pontos para executá-los. Assim, é possível comparar a eficiência dos métodos e seu tempo de convergência (número de iterações)."
      ],
      "metadata": {
        "id": "OPBcJ6w8wYYa"
      }
    },
    {
      "cell_type": "code",
      "source": [
        "pontos = [(0.1, 0.1), (0.1, 0.9), (0.55, 0.58), (0.59, 0.4), (0.6, 0.54), (0.64, 0.34), (0.7, 0.4)]"
      ],
      "metadata": {
        "id": "Pr7EJ5M9wnBg"
      },
      "execution_count": null,
      "outputs": []
    },
    {
      "cell_type": "markdown",
      "source": [
        "Finalmente, porém não menos importante, para cada um dos algoritmos abaixo, os valores de $\\gamma$, $\\eta$ e $passo$ foram definidos conforme a execução de cada algoritmo."
      ],
      "metadata": {
        "id": "jaFBcF8RxHcd"
      }
    },
    {
      "cell_type": "markdown",
      "source": [
        "## Gradiente"
      ],
      "metadata": {
        "id": "Hm1hseoxhGwV"
      }
    },
    {
      "cell_type": "markdown",
      "source": [
        "Para a escolha do $\\eta$ no cálculo do gradiente descendente, foi construido um código simples, a fim de eleger um número de $\\eta$ tal que o número de iteracoes de armijo fosse minimizada, sem perder a eficiência do algoritmo.\n",
        "\n",
        "Assim, após este processo, o número escolhido estaria num intervalo de 0.28 e 0.48 para o valor de $\\gamma = 0.6$."
      ],
      "metadata": {
        "id": "d60VaRCZheeb"
      }
    },
    {
      "cell_type": "markdown",
      "source": [
        "Tendo observado qual seria o melhor possível valor de $\\eta$, o mesmo processo foi repetido para $\\gamma$, porém, desta vez respeitando o intervalo de eta anterior. Assim, após tal processo, o valor escolhido de $\\gamma$ foi de 0.42,"
      ],
      "metadata": {
        "id": "RriLY_hXhiSj"
      }
    },
    {
      "cell_type": "markdown",
      "source": [
        "Além disso, o valor do passo foi definido da mesma forma. No qual o valor de $passo = 0.4$ foi o que obteve o melhor resultado, trazendo um menor número de iterações do método e convergindo ao resultado."
      ],
      "metadata": {
        "id": "n-qTvjYjhzxU"
      }
    },
    {
      "cell_type": "markdown",
      "source": [
        "Tendo o método definido e, os parâmetros também escolhidos, é possível definir a seguinte tabela de resultados"
      ],
      "metadata": {
        "id": "lVQLpLoshlJz"
      }
    },
    {
      "cell_type": "code",
      "source": [
        "gamma = 0.42\n",
        "eta = 0.32\n",
        "passo = 0.4\n",
        "\n",
        "resultados = []\n",
        "for ponto in pontos:\n",
        "  resultados.append(metodo_do_gradiente(maximo_iteracoes, limite, ponto, eta, gamma, passo))\n",
        "\n",
        "gera_tabela_resultado(resultados)"
      ],
      "metadata": {
        "colab": {
          "base_uri": "https://localhost:8080/",
          "height": 269
        },
        "id": "YtFAqzv3hRAR",
        "outputId": "0a07205c-8f55-408a-caba-48fab95796f3"
      },
      "execution_count": null,
      "outputs": [
        {
          "output_type": "display_data",
          "data": {
            "text/html": [
              "<style type=\"text/css\">\n",
              "#T_7f9a2_row0_col0, #T_7f9a2_row0_col1, #T_7f9a2_row0_col2, #T_7f9a2_row0_col3, #T_7f9a2_row0_col4, #T_7f9a2_row0_col5, #T_7f9a2_row1_col0, #T_7f9a2_row1_col1, #T_7f9a2_row1_col2, #T_7f9a2_row1_col3, #T_7f9a2_row1_col4, #T_7f9a2_row1_col5, #T_7f9a2_row2_col0, #T_7f9a2_row2_col1, #T_7f9a2_row2_col2, #T_7f9a2_row2_col3, #T_7f9a2_row2_col4, #T_7f9a2_row2_col5, #T_7f9a2_row3_col0, #T_7f9a2_row3_col1, #T_7f9a2_row3_col2, #T_7f9a2_row3_col3, #T_7f9a2_row3_col4, #T_7f9a2_row3_col5, #T_7f9a2_row4_col0, #T_7f9a2_row4_col1, #T_7f9a2_row4_col2, #T_7f9a2_row4_col3, #T_7f9a2_row4_col4, #T_7f9a2_row4_col5, #T_7f9a2_row5_col0, #T_7f9a2_row5_col1, #T_7f9a2_row5_col2, #T_7f9a2_row5_col3, #T_7f9a2_row5_col4, #T_7f9a2_row5_col5, #T_7f9a2_row6_col0, #T_7f9a2_row6_col1, #T_7f9a2_row6_col2, #T_7f9a2_row6_col3, #T_7f9a2_row6_col4, #T_7f9a2_row6_col5 {\n",
              "  text-align: center;\n",
              "}\n",
              "</style>\n",
              "<table id=\"T_7f9a2_\" class=\"dataframe\">\n",
              "  <thead>\n",
              "    <tr>\n",
              "      <th class=\"col_heading level0 col0\" >X0</th>\n",
              "      <th class=\"col_heading level0 col1\" >Iter.</th>\n",
              "      <th class=\"col_heading level0 col2\" >Call. Armijo</th>\n",
              "      <th class=\"col_heading level0 col3\" >Opt. Point</th>\n",
              "      <th class=\"col_heading level0 col4\" >Opt. Value</th>\n",
              "      <th class=\"col_heading level0 col5\" >Error</th>\n",
              "    </tr>\n",
              "  </thead>\n",
              "  <tbody>\n",
              "    <tr>\n",
              "      <td id=\"T_7f9a2_row0_col0\" class=\"data row0 col0\" >(0.1, 0.1)</td>\n",
              "      <td id=\"T_7f9a2_row0_col1\" class=\"data row0 col1\" >6</td>\n",
              "      <td id=\"T_7f9a2_row0_col2\" class=\"data row0 col2\" >1</td>\n",
              "      <td id=\"T_7f9a2_row0_col3\" class=\"data row0 col3\" >('0.499999996', '0.499999996')</td>\n",
              "      <td id=\"T_7f9a2_row0_col4\" class=\"data row0 col4\" >1.665109222315396</td>\n",
              "      <td id=\"T_7f9a2_row0_col5\" class=\"data row0 col5\" >1.43e-08</td>\n",
              "    </tr>\n",
              "    <tr>\n",
              "      <td id=\"T_7f9a2_row1_col0\" class=\"data row1 col0\" >(0.1, 0.9)</td>\n",
              "      <td id=\"T_7f9a2_row1_col1\" class=\"data row1 col1\" >6</td>\n",
              "      <td id=\"T_7f9a2_row1_col2\" class=\"data row1 col2\" >1</td>\n",
              "      <td id=\"T_7f9a2_row1_col3\" class=\"data row1 col3\" >('0.499999996', '0.500000004')</td>\n",
              "      <td id=\"T_7f9a2_row1_col4\" class=\"data row1 col4\" >1.665109222315396</td>\n",
              "      <td id=\"T_7f9a2_row1_col5\" class=\"data row1 col5\" >1.43e-08</td>\n",
              "    </tr>\n",
              "    <tr>\n",
              "      <td id=\"T_7f9a2_row2_col0\" class=\"data row2 col0\" >(0.55, 0.58)</td>\n",
              "      <td id=\"T_7f9a2_row2_col1\" class=\"data row2 col1\" >5</td>\n",
              "      <td id=\"T_7f9a2_row2_col2\" class=\"data row2 col2\" >0</td>\n",
              "      <td id=\"T_7f9a2_row2_col3\" class=\"data row2 col3\" >('0.500000004', '0.500000004')</td>\n",
              "      <td id=\"T_7f9a2_row2_col4\" class=\"data row2 col4\" >1.665109222315396</td>\n",
              "      <td id=\"T_7f9a2_row2_col5\" class=\"data row2 col5\" >1.35e-08</td>\n",
              "    </tr>\n",
              "    <tr>\n",
              "      <td id=\"T_7f9a2_row3_col0\" class=\"data row3 col0\" >(0.59, 0.4)</td>\n",
              "      <td id=\"T_7f9a2_row3_col1\" class=\"data row3 col1\" >5</td>\n",
              "      <td id=\"T_7f9a2_row3_col2\" class=\"data row3 col2\" >0</td>\n",
              "      <td id=\"T_7f9a2_row3_col3\" class=\"data row3 col3\" >('0.500000004', '0.499999997')</td>\n",
              "      <td id=\"T_7f9a2_row3_col4\" class=\"data row3 col4\" >1.665109222315395</td>\n",
              "      <td id=\"T_7f9a2_row3_col5\" class=\"data row3 col5\" >1.21e-08</td>\n",
              "    </tr>\n",
              "    <tr>\n",
              "      <td id=\"T_7f9a2_row4_col0\" class=\"data row4 col0\" >(0.6, 0.54)</td>\n",
              "      <td id=\"T_7f9a2_row4_col1\" class=\"data row4 col1\" >5</td>\n",
              "      <td id=\"T_7f9a2_row4_col2\" class=\"data row4 col2\" >0</td>\n",
              "      <td id=\"T_7f9a2_row4_col3\" class=\"data row4 col3\" >('0.500000002', '0.500000004')</td>\n",
              "      <td id=\"T_7f9a2_row4_col4\" class=\"data row4 col4\" >1.665109222315395</td>\n",
              "      <td id=\"T_7f9a2_row4_col5\" class=\"data row4 col5\" >1.01e-08</td>\n",
              "    </tr>\n",
              "    <tr>\n",
              "      <td id=\"T_7f9a2_row5_col0\" class=\"data row5 col0\" >(0.64, 0.34)</td>\n",
              "      <td id=\"T_7f9a2_row5_col1\" class=\"data row5 col1\" >5</td>\n",
              "      <td id=\"T_7f9a2_row5_col2\" class=\"data row5 col2\" >0</td>\n",
              "      <td id=\"T_7f9a2_row5_col3\" class=\"data row5 col3\" >('0.499999997', '0.500000013')</td>\n",
              "      <td id=\"T_7f9a2_row5_col4\" class=\"data row5 col4\" >1.665109222315396</td>\n",
              "      <td id=\"T_7f9a2_row5_col5\" class=\"data row5 col5\" >3.27e-08</td>\n",
              "    </tr>\n",
              "    <tr>\n",
              "      <td id=\"T_7f9a2_row6_col0\" class=\"data row6 col0\" >(0.7, 0.4)</td>\n",
              "      <td id=\"T_7f9a2_row6_col1\" class=\"data row6 col1\" >6</td>\n",
              "      <td id=\"T_7f9a2_row6_col2\" class=\"data row6 col2\" >0</td>\n",
              "      <td id=\"T_7f9a2_row6_col3\" class=\"data row6 col3\" >('0.499999998', '0.500000000')</td>\n",
              "      <td id=\"T_7f9a2_row6_col4\" class=\"data row6 col4\" >1.665109222315395</td>\n",
              "      <td id=\"T_7f9a2_row6_col5\" class=\"data row6 col5\" >4.40e-09</td>\n",
              "    </tr>\n",
              "  </tbody>\n",
              "</table>\n"
            ],
            "text/plain": [
              "<pandas.io.formats.style.Styler at 0x7fed25a28310>"
            ]
          },
          "metadata": {}
        }
      ]
    },
    {
      "cell_type": "markdown",
      "source": [
        "## Newton"
      ],
      "metadata": {
        "id": "HrVPnfQ4hIrV"
      }
    },
    {
      "cell_type": "markdown",
      "source": [
        "Para a escolha do $\\eta$ no cálculo do método de newton, foi construido o mesmo código simples, a fim de eleger um número de $\\eta$, $\\gamma$ e $passo$ tal que o número de iteracoes do algoritmo fosse minimizado, atingindo assim a convergência ao resultado."
      ],
      "metadata": {
        "id": "0JINUPm9iHxs"
      }
    },
    {
      "cell_type": "markdown",
      "source": [
        "Assim, após a execução deste código, foram definidos os seguintes valores:\n",
        "\n",
        "$gamma = 0.6$, $eta = 0.4$ e $passo = 0.9$"
      ],
      "metadata": {
        "id": "nCeYtZqxiHxt"
      }
    },
    {
      "cell_type": "markdown",
      "source": [
        "Tendo o método definido e, os parâmetros também escolhidos, é possível definir a seguinte tabela de resultados"
      ],
      "metadata": {
        "id": "-c1JqgrWiHxt"
      }
    },
    {
      "cell_type": "code",
      "source": [
        "gamma = 0.6\n",
        "eta = 0.4\n",
        "passo = 0.9\n",
        "\n",
        "resultados = []\n",
        "for ponto in pontos:\n",
        "  resultados.append(metodo_de_newton(maximo_iteracoes, limite, ponto, eta, gamma, passo))\n",
        "\n",
        "gera_tabela_resultado(resultados)"
      ],
      "metadata": {
        "colab": {
          "base_uri": "https://localhost:8080/",
          "height": 269
        },
        "id": "9908WyqyhRRK",
        "outputId": "79f80d7d-54d6-4fa8-c36c-532515cb99a9"
      },
      "execution_count": null,
      "outputs": [
        {
          "output_type": "display_data",
          "data": {
            "text/html": [
              "<style type=\"text/css\">\n",
              "#T_28f85_row0_col0, #T_28f85_row0_col1, #T_28f85_row0_col2, #T_28f85_row0_col3, #T_28f85_row0_col4, #T_28f85_row0_col5, #T_28f85_row1_col0, #T_28f85_row1_col1, #T_28f85_row1_col2, #T_28f85_row1_col3, #T_28f85_row1_col4, #T_28f85_row1_col5, #T_28f85_row2_col0, #T_28f85_row2_col1, #T_28f85_row2_col2, #T_28f85_row2_col3, #T_28f85_row2_col4, #T_28f85_row2_col5, #T_28f85_row3_col0, #T_28f85_row3_col1, #T_28f85_row3_col2, #T_28f85_row3_col3, #T_28f85_row3_col4, #T_28f85_row3_col5, #T_28f85_row4_col0, #T_28f85_row4_col1, #T_28f85_row4_col2, #T_28f85_row4_col3, #T_28f85_row4_col4, #T_28f85_row4_col5, #T_28f85_row5_col0, #T_28f85_row5_col1, #T_28f85_row5_col2, #T_28f85_row5_col3, #T_28f85_row5_col4, #T_28f85_row5_col5, #T_28f85_row6_col0, #T_28f85_row6_col1, #T_28f85_row6_col2, #T_28f85_row6_col3, #T_28f85_row6_col4, #T_28f85_row6_col5 {\n",
              "  text-align: center;\n",
              "}\n",
              "</style>\n",
              "<table id=\"T_28f85_\" class=\"dataframe\">\n",
              "  <thead>\n",
              "    <tr>\n",
              "      <th class=\"col_heading level0 col0\" >X0</th>\n",
              "      <th class=\"col_heading level0 col1\" >Iter.</th>\n",
              "      <th class=\"col_heading level0 col2\" >Call. Armijo</th>\n",
              "      <th class=\"col_heading level0 col3\" >Opt. Point</th>\n",
              "      <th class=\"col_heading level0 col4\" >Opt. Value</th>\n",
              "      <th class=\"col_heading level0 col5\" >Error</th>\n",
              "    </tr>\n",
              "  </thead>\n",
              "  <tbody>\n",
              "    <tr>\n",
              "      <td id=\"T_28f85_row0_col0\" class=\"data row0 col0\" >(0.1, 0.1)</td>\n",
              "      <td id=\"T_28f85_row0_col1\" class=\"data row0 col1\" >10</td>\n",
              "      <td id=\"T_28f85_row0_col2\" class=\"data row0 col2\" >0</td>\n",
              "      <td id=\"T_28f85_row0_col3\" class=\"data row0 col3\" >('0.499999996', '0.499999996')</td>\n",
              "      <td id=\"T_28f85_row0_col4\" class=\"data row0 col4\" >1.665109222315395</td>\n",
              "      <td id=\"T_28f85_row0_col5\" class=\"data row0 col5\" >1.23e-08</td>\n",
              "    </tr>\n",
              "    <tr>\n",
              "      <td id=\"T_28f85_row1_col0\" class=\"data row1 col0\" >(0.1, 0.9)</td>\n",
              "      <td id=\"T_28f85_row1_col1\" class=\"data row1 col1\" >10</td>\n",
              "      <td id=\"T_28f85_row1_col2\" class=\"data row1 col2\" >0</td>\n",
              "      <td id=\"T_28f85_row1_col3\" class=\"data row1 col3\" >('0.499999996', '0.500000004')</td>\n",
              "      <td id=\"T_28f85_row1_col4\" class=\"data row1 col4\" >1.665109222315395</td>\n",
              "      <td id=\"T_28f85_row1_col5\" class=\"data row1 col5\" >1.23e-08</td>\n",
              "    </tr>\n",
              "    <tr>\n",
              "      <td id=\"T_28f85_row2_col0\" class=\"data row2 col0\" >(0.55, 0.58)</td>\n",
              "      <td id=\"T_28f85_row2_col1\" class=\"data row2 col1\" >7</td>\n",
              "      <td id=\"T_28f85_row2_col2\" class=\"data row2 col2\" >0</td>\n",
              "      <td id=\"T_28f85_row2_col3\" class=\"data row2 col3\" >('0.500000005', '0.500000011')</td>\n",
              "      <td id=\"T_28f85_row2_col4\" class=\"data row2 col4\" >1.665109222315396</td>\n",
              "      <td id=\"T_28f85_row2_col5\" class=\"data row2 col5\" >2.89e-08</td>\n",
              "    </tr>\n",
              "    <tr>\n",
              "      <td id=\"T_28f85_row3_col0\" class=\"data row3 col0\" >(0.59, 0.4)</td>\n",
              "      <td id=\"T_28f85_row3_col1\" class=\"data row3 col1\" >7</td>\n",
              "      <td id=\"T_28f85_row3_col2\" class=\"data row3 col2\" >0</td>\n",
              "      <td id=\"T_28f85_row3_col3\" class=\"data row3 col3\" >('0.500000012', '0.499999985')</td>\n",
              "      <td id=\"T_28f85_row3_col4\" class=\"data row3 col4\" >1.665109222315396</td>\n",
              "      <td id=\"T_28f85_row3_col5\" class=\"data row3 col5\" >4.65e-08</td>\n",
              "    </tr>\n",
              "    <tr>\n",
              "      <td id=\"T_28f85_row4_col0\" class=\"data row4 col0\" >(0.6, 0.54)</td>\n",
              "      <td id=\"T_28f85_row4_col1\" class=\"data row4 col1\" >7</td>\n",
              "      <td id=\"T_28f85_row4_col2\" class=\"data row4 col2\" >0</td>\n",
              "      <td id=\"T_28f85_row4_col3\" class=\"data row4 col3\" >('0.500000016', '0.500000004')</td>\n",
              "      <td id=\"T_28f85_row4_col4\" class=\"data row4 col4\" >1.665109222315396</td>\n",
              "      <td id=\"T_28f85_row4_col5\" class=\"data row4 col5\" >3.91e-08</td>\n",
              "    </tr>\n",
              "    <tr>\n",
              "      <td id=\"T_28f85_row5_col0\" class=\"data row5 col0\" >(0.64, 0.34)</td>\n",
              "      <td id=\"T_28f85_row5_col1\" class=\"data row5 col1\" >8</td>\n",
              "      <td id=\"T_28f85_row5_col2\" class=\"data row5 col2\" >0</td>\n",
              "      <td id=\"T_28f85_row5_col3\" class=\"data row5 col3\" >('0.500000003', '0.499999996')</td>\n",
              "      <td id=\"T_28f85_row5_col4\" class=\"data row5 col4\" >1.665109222315395</td>\n",
              "      <td id=\"T_28f85_row5_col5\" class=\"data row5 col5\" >1.12e-08</td>\n",
              "    </tr>\n",
              "    <tr>\n",
              "      <td id=\"T_28f85_row6_col0\" class=\"data row6 col0\" >(0.7, 0.4)</td>\n",
              "      <td id=\"T_28f85_row6_col1\" class=\"data row6 col1\" >8</td>\n",
              "      <td id=\"T_28f85_row6_col2\" class=\"data row6 col2\" >0</td>\n",
              "      <td id=\"T_28f85_row6_col3\" class=\"data row6 col3\" >('0.500000008', '0.499999999')</td>\n",
              "      <td id=\"T_28f85_row6_col4\" class=\"data row6 col4\" >1.665109222315396</td>\n",
              "      <td id=\"T_28f85_row6_col5\" class=\"data row6 col5\" >1.83e-08</td>\n",
              "    </tr>\n",
              "  </tbody>\n",
              "</table>\n"
            ],
            "text/plain": [
              "<pandas.io.formats.style.Styler at 0x7fed154bcc10>"
            ]
          },
          "metadata": {}
        }
      ]
    },
    {
      "cell_type": "markdown",
      "source": [
        "## quase-Newton"
      ],
      "metadata": {
        "id": "T8F0JIKXhJ8O"
      }
    },
    {
      "cell_type": "markdown",
      "source": [
        "Para a escolha do $\\eta$ no cálculo do método de quase-Newton, foi construido o mesmo código simples dos passos anteriores, a fim de eleger um número de $\\eta$, $\\gamma$ e $passo$ tal que o número de iteracoes do algoritmo fosse minimizado, atingindo assim a convergência ao resultado."
      ],
      "metadata": {
        "id": "jV6Y4SmJimw9"
      }
    },
    {
      "cell_type": "markdown",
      "source": [
        "Assim, após a execução deste código, foram definidos os seguintes valores:\n",
        "\n",
        "$gamma = 0.61$, $eta = 0.2$ e $passo = 0.3$"
      ],
      "metadata": {
        "id": "RiRdb0blimw9"
      }
    },
    {
      "cell_type": "code",
      "source": [
        "gamma = 0.61\n",
        "eta = 0.20\n",
        "passo = 0.3\n",
        "\n",
        "resultados = []\n",
        "for ponto in pontos:\n",
        "  resultados.append(metodo_quase_newton(maximo_iteracoes, limite, ponto, eta, gamma, passo))\n",
        "\n",
        "gera_tabela_resultado(resultados)"
      ],
      "metadata": {
        "colab": {
          "base_uri": "https://localhost:8080/",
          "height": 269
        },
        "id": "L1cMiN9JD2mo",
        "outputId": "62687dc0-8fd5-4ad6-fc67-223528706472"
      },
      "execution_count": null,
      "outputs": [
        {
          "output_type": "display_data",
          "data": {
            "text/html": [
              "<style type=\"text/css\">\n",
              "#T_25f99_row0_col0, #T_25f99_row0_col1, #T_25f99_row0_col2, #T_25f99_row0_col3, #T_25f99_row0_col4, #T_25f99_row0_col5, #T_25f99_row1_col0, #T_25f99_row1_col1, #T_25f99_row1_col2, #T_25f99_row1_col3, #T_25f99_row1_col4, #T_25f99_row1_col5, #T_25f99_row2_col0, #T_25f99_row2_col1, #T_25f99_row2_col2, #T_25f99_row2_col3, #T_25f99_row2_col4, #T_25f99_row2_col5, #T_25f99_row3_col0, #T_25f99_row3_col1, #T_25f99_row3_col2, #T_25f99_row3_col3, #T_25f99_row3_col4, #T_25f99_row3_col5, #T_25f99_row4_col0, #T_25f99_row4_col1, #T_25f99_row4_col2, #T_25f99_row4_col3, #T_25f99_row4_col4, #T_25f99_row4_col5, #T_25f99_row5_col0, #T_25f99_row5_col1, #T_25f99_row5_col2, #T_25f99_row5_col3, #T_25f99_row5_col4, #T_25f99_row5_col5, #T_25f99_row6_col0, #T_25f99_row6_col1, #T_25f99_row6_col2, #T_25f99_row6_col3, #T_25f99_row6_col4, #T_25f99_row6_col5 {\n",
              "  text-align: center;\n",
              "}\n",
              "</style>\n",
              "<table id=\"T_25f99_\" class=\"dataframe\">\n",
              "  <thead>\n",
              "    <tr>\n",
              "      <th class=\"col_heading level0 col0\" >X0</th>\n",
              "      <th class=\"col_heading level0 col1\" >Iter.</th>\n",
              "      <th class=\"col_heading level0 col2\" >Call. Armijo</th>\n",
              "      <th class=\"col_heading level0 col3\" >Opt. Point</th>\n",
              "      <th class=\"col_heading level0 col4\" >Opt. Value</th>\n",
              "      <th class=\"col_heading level0 col5\" >Error</th>\n",
              "    </tr>\n",
              "  </thead>\n",
              "  <tbody>\n",
              "    <tr>\n",
              "      <td id=\"T_25f99_row0_col0\" class=\"data row0 col0\" >(0.1, 0.1)</td>\n",
              "      <td id=\"T_25f99_row0_col1\" class=\"data row0 col1\" >18</td>\n",
              "      <td id=\"T_25f99_row0_col2\" class=\"data row0 col2\" >1</td>\n",
              "      <td id=\"T_25f99_row0_col3\" class=\"data row0 col3\" >('0.500000027', '0.500000027')</td>\n",
              "      <td id=\"T_25f99_row0_col4\" class=\"data row0 col4\" >1.665109222315397</td>\n",
              "      <td id=\"T_25f99_row0_col5\" class=\"data row0 col5\" >9.21e-08</td>\n",
              "    </tr>\n",
              "    <tr>\n",
              "      <td id=\"T_25f99_row1_col0\" class=\"data row1 col0\" >(0.1, 0.9)</td>\n",
              "      <td id=\"T_25f99_row1_col1\" class=\"data row1 col1\" >28</td>\n",
              "      <td id=\"T_25f99_row1_col2\" class=\"data row1 col2\" >1</td>\n",
              "      <td id=\"T_25f99_row1_col3\" class=\"data row1 col3\" >('0.499999971', '0.499999997')</td>\n",
              "      <td id=\"T_25f99_row1_col4\" class=\"data row1 col4\" >1.665109222315396</td>\n",
              "      <td id=\"T_25f99_row1_col5\" class=\"data row1 col5\" >7.05e-08</td>\n",
              "    </tr>\n",
              "    <tr>\n",
              "      <td id=\"T_25f99_row2_col0\" class=\"data row2 col0\" >(0.55, 0.58)</td>\n",
              "      <td id=\"T_25f99_row2_col1\" class=\"data row2 col1\" >19</td>\n",
              "      <td id=\"T_25f99_row2_col2\" class=\"data row2 col2\" >0</td>\n",
              "      <td id=\"T_25f99_row2_col3\" class=\"data row2 col3\" >('0.500000016', '0.500000017')</td>\n",
              "      <td id=\"T_25f99_row2_col4\" class=\"data row2 col4\" >1.665109222315396</td>\n",
              "      <td id=\"T_25f99_row2_col5\" class=\"data row2 col5\" >5.57e-08</td>\n",
              "    </tr>\n",
              "    <tr>\n",
              "      <td id=\"T_25f99_row3_col0\" class=\"data row3 col0\" >(0.59, 0.4)</td>\n",
              "      <td id=\"T_25f99_row3_col1\" class=\"data row3 col1\" >28</td>\n",
              "      <td id=\"T_25f99_row3_col2\" class=\"data row3 col2\" >1</td>\n",
              "      <td id=\"T_25f99_row3_col3\" class=\"data row3 col3\" >('0.500000032', '0.500000004')</td>\n",
              "      <td id=\"T_25f99_row3_col4\" class=\"data row3 col4\" >1.665109222315397</td>\n",
              "      <td id=\"T_25f99_row3_col5\" class=\"data row3 col5\" >7.80e-08</td>\n",
              "    </tr>\n",
              "    <tr>\n",
              "      <td id=\"T_25f99_row4_col0\" class=\"data row4 col0\" >(0.6, 0.54)</td>\n",
              "      <td id=\"T_25f99_row4_col1\" class=\"data row4 col1\" >20</td>\n",
              "      <td id=\"T_25f99_row4_col2\" class=\"data row4 col2\" >0</td>\n",
              "      <td id=\"T_25f99_row4_col3\" class=\"data row4 col3\" >('0.499999985', '0.499999988')</td>\n",
              "      <td id=\"T_25f99_row4_col4\" class=\"data row4 col4\" >1.665109222315396</td>\n",
              "      <td id=\"T_25f99_row4_col5\" class=\"data row4 col5\" >4.59e-08</td>\n",
              "    </tr>\n",
              "    <tr>\n",
              "      <td id=\"T_25f99_row5_col0\" class=\"data row5 col0\" >(0.64, 0.34)</td>\n",
              "      <td id=\"T_25f99_row5_col1\" class=\"data row5 col1\" >28</td>\n",
              "      <td id=\"T_25f99_row5_col2\" class=\"data row5 col2\" >0</td>\n",
              "      <td id=\"T_25f99_row5_col3\" class=\"data row5 col3\" >('0.499999997', '0.499999971')</td>\n",
              "      <td id=\"T_25f99_row5_col4\" class=\"data row5 col4\" >1.665109222315396</td>\n",
              "      <td id=\"T_25f99_row5_col5\" class=\"data row5 col5\" >7.00e-08</td>\n",
              "    </tr>\n",
              "    <tr>\n",
              "      <td id=\"T_25f99_row6_col0\" class=\"data row6 col0\" >(0.7, 0.4)</td>\n",
              "      <td id=\"T_25f99_row6_col1\" class=\"data row6 col1\" >29</td>\n",
              "      <td id=\"T_25f99_row6_col2\" class=\"data row6 col2\" >1</td>\n",
              "      <td id=\"T_25f99_row6_col3\" class=\"data row6 col3\" >('0.499999997', '0.499999978')</td>\n",
              "      <td id=\"T_25f99_row6_col4\" class=\"data row6 col4\" >1.665109222315396</td>\n",
              "      <td id=\"T_25f99_row6_col5\" class=\"data row6 col5\" >5.43e-08</td>\n",
              "    </tr>\n",
              "  </tbody>\n",
              "</table>\n"
            ],
            "text/plain": [
              "<pandas.io.formats.style.Styler at 0x7fed1d584190>"
            ]
          },
          "metadata": {}
        }
      ]
    }
  ]
}